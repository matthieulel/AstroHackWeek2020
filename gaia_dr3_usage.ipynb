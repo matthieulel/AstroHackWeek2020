{
  "nbformat": 4,
  "nbformat_minor": 0,
  "metadata": {
    "colab": {
      "private_outputs": true,
      "provenance": [],
      "authorship_tag": "ABX9TyMSWhH8UEKjpeOBYbG8Z5bE",
      "include_colab_link": true
    },
    "kernelspec": {
      "name": "python3",
      "display_name": "Python 3"
    },
    "language_info": {
      "name": "python"
    }
  },
  "cells": [
    {
      "cell_type": "markdown",
      "metadata": {
        "id": "view-in-github",
        "colab_type": "text"
      },
      "source": [
        "<a href=\"https://colab.research.google.com/github/matthieulel/AstroHackWeek2020/blob/master/gaia_dr3_usage.ipynb\" target=\"_parent\"><img src=\"https://colab.research.google.com/assets/colab-badge.svg\" alt=\"Open In Colab\"/></a>"
      ]
    },
    {
      "cell_type": "markdown",
      "source": [
        "https://www.youtube.com/watch?v=_7zp2LZzrlU"
      ],
      "metadata": {
        "id": "pJCAZtoEEgjc"
      }
    },
    {
      "cell_type": "code",
      "execution_count": null,
      "metadata": {
        "id": "692qh5iN-30K"
      },
      "outputs": [],
      "source": [
        "!pip install astroquery\n",
        "!pip install mocpy\n",
        "!pip install astropy\n",
        "!pip install matplotlib"
      ]
    },
    {
      "cell_type": "markdown",
      "source": [
        "Import"
      ],
      "metadata": {
        "id": "LhYNkoNKEoum"
      }
    },
    {
      "cell_type": "code",
      "source": [
        "import numpy as np\n",
        "import matplotlib.pyplot as plt\n",
        "from matplotlib import rc\n",
        "from astroquery.gaia import Gaia\n",
        "from astroquery.ipac.nexsci.nasa_exoplanet_archive import NasaExoplanetArchive\n",
        "\n",
        "from astropy.table import Table\n",
        "\n",
        "from itertools import chain"
      ],
      "metadata": {
        "id": "Em3MTfAvEKHh"
      },
      "execution_count": null,
      "outputs": []
    },
    {
      "cell_type": "markdown",
      "source": [
        "Matplotlib config"
      ],
      "metadata": {
        "id": "7l9E0HZqEqKT"
      }
    },
    {
      "cell_type": "code",
      "source": [
        "linewidths = 2\n",
        "axislinewidths = 2\n",
        "lenticks = 6\n",
        "\n",
        "rc('font', family='sans-serif', size=18)\n",
        "rc('xtick.major', size=lenticks)\n",
        "rc('xtick.minor', size=lenticks * 2/3)\n",
        "rc('ytick.major', size=lenticks)\n",
        "rc('ytick.minor', size=lenticks * 2/3)\n",
        "rc('lines', linewidth=linewidths)\n",
        "rc('axes', linewidth=axislinewidths)"
      ],
      "metadata": {
        "id": "MVIsMikkEvGs"
      },
      "execution_count": null,
      "outputs": []
    },
    {
      "cell_type": "markdown",
      "source": [
        "Find Gaia DR3 Tables in the gaia archive\n",
        "- First : **generating a overview of the Gaia DR3 tables available** from the ESA Gaia archive"
      ],
      "metadata": {
        "id": "VJOf4BCuGOlI"
      }
    },
    {
      "cell_type": "code",
      "source": [
        "tables = Gaia.load_tables(only_names=True)\n",
        "for table in tables:\n",
        "  if 'gaiadr3' in table.get_qualified_name():\n",
        "    print(table.get_qualified_name())"
      ],
      "metadata": {
        "id": "7Zm9i3u8EvIy"
      },
      "execution_count": null,
      "outputs": []
    },
    {
      "cell_type": "code",
      "source": [],
      "metadata": {
        "id": "hVxNZX4UEvLL"
      },
      "execution_count": null,
      "outputs": []
    },
    {
      "cell_type": "code",
      "source": [],
      "metadata": {
        "id": "V4xpj1Y1EvNg"
      },
      "execution_count": null,
      "outputs": []
    },
    {
      "cell_type": "code",
      "source": [],
      "metadata": {
        "id": "gzEJJvZpEvQG"
      },
      "execution_count": null,
      "outputs": []
    },
    {
      "cell_type": "code",
      "source": [],
      "metadata": {
        "id": "O0rudDHoEvSw"
      },
      "execution_count": null,
      "outputs": []
    },
    {
      "cell_type": "code",
      "source": [],
      "metadata": {
        "id": "OTLKKc-XEvVC"
      },
      "execution_count": null,
      "outputs": []
    },
    {
      "cell_type": "code",
      "source": [],
      "metadata": {
        "id": "f_T007msEvXH"
      },
      "execution_count": null,
      "outputs": []
    },
    {
      "cell_type": "code",
      "source": [],
      "metadata": {
        "id": "Wnia6SqrEvZ_"
      },
      "execution_count": null,
      "outputs": []
    },
    {
      "cell_type": "code",
      "source": [],
      "metadata": {
        "id": "-EpeFtI5EvcW"
      },
      "execution_count": null,
      "outputs": []
    },
    {
      "cell_type": "code",
      "source": [],
      "metadata": {
        "id": "BfiQrs8OEves"
      },
      "execution_count": null,
      "outputs": []
    },
    {
      "cell_type": "code",
      "source": [],
      "metadata": {
        "id": "C8xjSHccEvhB"
      },
      "execution_count": null,
      "outputs": []
    },
    {
      "cell_type": "code",
      "source": [],
      "metadata": {
        "id": "sti3ZQkxEvjp"
      },
      "execution_count": null,
      "outputs": []
    },
    {
      "cell_type": "code",
      "source": [
        "# get dataset list and filter with sdss\n",
        "from astroquery.cds import cds\n",
        "import astropy.units as u\n",
        "\n",
        "datasets_list = cds.find_datasets(meta_data='ID=*sdss*', fields=['ID'])\n",
        "print(datasets_list)"
      ],
      "metadata": {
        "id": "4MqJ9U57_KhI"
      },
      "execution_count": null,
      "outputs": []
    },
    {
      "cell_type": "code",
      "source": [
        "# Get SDSS Dataset from CDS Astroquery by previous ID\n",
        "# return_moc => get MOC Object\n",
        "\n",
        "moc = cds.find_datasets(meta_data='CDS/II/282/sdss6', return_moc=True)"
      ],
      "metadata": {
        "id": "cN5VBn6y_h7-"
      },
      "execution_count": null,
      "outputs": []
    },
    {
      "cell_type": "code",
      "source": [
        "print(moc)"
      ],
      "metadata": {
        "id": "BfPb0QTbAAbC"
      },
      "execution_count": null,
      "outputs": []
    },
    {
      "cell_type": "code",
      "source": [],
      "metadata": {
        "id": "deInT028AJpr"
      },
      "execution_count": null,
      "outputs": []
    }
  ]
}